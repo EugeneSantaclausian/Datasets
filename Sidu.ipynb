{
  "nbformat": 4,
  "nbformat_minor": 0,
  "metadata": {
    "colab": {
      "name": "Sidu.ipynb",
      "version": "0.3.2",
      "provenance": [],
      "collapsed_sections": [],
      "include_colab_link": true
    },
    "kernelspec": {
      "name": "python3",
      "display_name": "Python 3"
    }
  },
  "cells": [
    {
      "cell_type": "markdown",
      "metadata": {
        "id": "view-in-github",
        "colab_type": "text"
      },
      "source": [
        "<a href=\"https://colab.research.google.com/github/EugeneSantaclausian/Datasets/blob/master/Sidu.ipynb\" target=\"_parent\"><img src=\"https://colab.research.google.com/assets/colab-badge.svg\" alt=\"Open In Colab\"/></a>"
      ]
    },
    {
      "cell_type": "markdown",
      "metadata": {
        "id": "5l7kJf4p-WCV",
        "colab_type": "text"
      },
      "source": [
        "# **INTRODUCTION**\n",
        "\n",
        "---\n",
        "\n",
        "\n",
        "### This is SIDU's demo model. SIDU seeks to brigde the disconnnect between the Job Markets and the Skillsets of Employees. Using Machine Learning algorithms, SIDU predicts suitable courses and career options for students to meet the demands of the Job market using their examination scores.\n",
        "\n",
        "---\n",
        "\n",
        "\n",
        "\n"
      ]
    },
    {
      "cell_type": "markdown",
      "metadata": {
        "id": "CoQS2xQg7xej",
        "colab_type": "text"
      },
      "source": [
        "**WE BEGIN BY IMPORTING SOME LIBRARIES WE WILL NEED TO WORK WITH OUR DATASET AND DRAW OUR PREDICTIONS**"
      ]
    },
    {
      "cell_type": "code",
      "metadata": {
        "id": "mPQr_izE7NeG",
        "colab_type": "code",
        "colab": {}
      },
      "source": [
        "import pandas as pd\n",
        "import matplotlib.pyplot as plt\n",
        "import seaborn as sns\n",
        "import sklearn\n",
        "from sklearn.model_selection import train_test_split\n",
        "from sklearn.linear_model import LogisticRegression\n",
        "from sklearn.linear_model import LinearRegression\n",
        "from sklearn.metrics import confusion_matrix, accuracy_score\n",
        "\n",
        "ds = pd.read_csv('https://raw.githubusercontent.com/fivethirtyeight/data/master/college-majors/recent-grads.csv')"
      ],
      "execution_count": 0,
      "outputs": []
    },
    {
      "cell_type": "markdown",
      "metadata": {
        "id": "-G4hX-el68Q4",
        "colab_type": "text"
      },
      "source": [
        "## **DATA EXPLORATION**"
      ]
    },
    {
      "cell_type": "code",
      "metadata": {
        "colab_type": "code",
        "outputId": "96eb4fe1-dc4d-400c-a967-58e632cd17cb",
        "id": "qjLXUWQlvgVi",
        "colab": {
          "base_uri": "https://localhost:8080/",
          "height": 182
        }
      },
      "source": [
        "ds.head(2)"
      ],
      "execution_count": 0,
      "outputs": [
        {
          "output_type": "execute_result",
          "data": {
            "text/html": [
              "<div>\n",
              "<style scoped>\n",
              "    .dataframe tbody tr th:only-of-type {\n",
              "        vertical-align: middle;\n",
              "    }\n",
              "\n",
              "    .dataframe tbody tr th {\n",
              "        vertical-align: top;\n",
              "    }\n",
              "\n",
              "    .dataframe thead th {\n",
              "        text-align: right;\n",
              "    }\n",
              "</style>\n",
              "<table border=\"1\" class=\"dataframe\">\n",
              "  <thead>\n",
              "    <tr style=\"text-align: right;\">\n",
              "      <th></th>\n",
              "      <th>Rank</th>\n",
              "      <th>Major_code</th>\n",
              "      <th>Major</th>\n",
              "      <th>Total</th>\n",
              "      <th>Men</th>\n",
              "      <th>Women</th>\n",
              "      <th>Major_category</th>\n",
              "      <th>ShareWomen</th>\n",
              "      <th>Sample_size</th>\n",
              "      <th>Employed</th>\n",
              "      <th>Full_time</th>\n",
              "      <th>Part_time</th>\n",
              "      <th>Full_time_year_round</th>\n",
              "      <th>Unemployed</th>\n",
              "      <th>Unemployment_rate</th>\n",
              "      <th>Median</th>\n",
              "      <th>P25th</th>\n",
              "      <th>P75th</th>\n",
              "      <th>College_jobs</th>\n",
              "      <th>Non_college_jobs</th>\n",
              "      <th>Low_wage_jobs</th>\n",
              "    </tr>\n",
              "  </thead>\n",
              "  <tbody>\n",
              "    <tr>\n",
              "      <th>0</th>\n",
              "      <td>1</td>\n",
              "      <td>2419</td>\n",
              "      <td>PETROLEUM ENGINEERING</td>\n",
              "      <td>2339.0</td>\n",
              "      <td>2057.0</td>\n",
              "      <td>282.0</td>\n",
              "      <td>Engineering</td>\n",
              "      <td>0.120564</td>\n",
              "      <td>36</td>\n",
              "      <td>1976</td>\n",
              "      <td>1849</td>\n",
              "      <td>270</td>\n",
              "      <td>1207</td>\n",
              "      <td>37</td>\n",
              "      <td>0.018381</td>\n",
              "      <td>110000</td>\n",
              "      <td>95000</td>\n",
              "      <td>125000</td>\n",
              "      <td>1534</td>\n",
              "      <td>364</td>\n",
              "      <td>193</td>\n",
              "    </tr>\n",
              "    <tr>\n",
              "      <th>1</th>\n",
              "      <td>2</td>\n",
              "      <td>2416</td>\n",
              "      <td>MINING AND MINERAL ENGINEERING</td>\n",
              "      <td>756.0</td>\n",
              "      <td>679.0</td>\n",
              "      <td>77.0</td>\n",
              "      <td>Engineering</td>\n",
              "      <td>0.101852</td>\n",
              "      <td>7</td>\n",
              "      <td>640</td>\n",
              "      <td>556</td>\n",
              "      <td>170</td>\n",
              "      <td>388</td>\n",
              "      <td>85</td>\n",
              "      <td>0.117241</td>\n",
              "      <td>75000</td>\n",
              "      <td>55000</td>\n",
              "      <td>90000</td>\n",
              "      <td>350</td>\n",
              "      <td>257</td>\n",
              "      <td>50</td>\n",
              "    </tr>\n",
              "  </tbody>\n",
              "</table>\n",
              "</div>"
            ],
            "text/plain": [
              "   Rank  Major_code  ... Non_college_jobs  Low_wage_jobs\n",
              "0     1        2419  ...              364            193\n",
              "1     2        2416  ...              257             50\n",
              "\n",
              "[2 rows x 21 columns]"
            ]
          },
          "metadata": {
            "tags": []
          },
          "execution_count": 444
        }
      ]
    },
    {
      "cell_type": "code",
      "metadata": {
        "id": "CuJ2QtBHb38u",
        "colab_type": "code",
        "outputId": "46839162-d38b-4d0d-d560-44fe21e600a8",
        "colab": {
          "base_uri": "https://localhost:8080/",
          "height": 34
        }
      },
      "source": [
        "ds.shape"
      ],
      "execution_count": 0,
      "outputs": [
        {
          "output_type": "execute_result",
          "data": {
            "text/plain": [
              "(173, 21)"
            ]
          },
          "metadata": {
            "tags": []
          },
          "execution_count": 445
        }
      ]
    },
    {
      "cell_type": "code",
      "metadata": {
        "id": "_UoSTFk1cA8J",
        "colab_type": "code",
        "outputId": "733179e8-419f-432b-b8b4-772d1cf4b810",
        "colab": {
          "base_uri": "https://localhost:8080/",
          "height": 459
        }
      },
      "source": [
        "ds.info()"
      ],
      "execution_count": 0,
      "outputs": [
        {
          "output_type": "stream",
          "text": [
            "<class 'pandas.core.frame.DataFrame'>\n",
            "RangeIndex: 173 entries, 0 to 172\n",
            "Data columns (total 21 columns):\n",
            "Rank                    173 non-null int64\n",
            "Major_code              173 non-null int64\n",
            "Major                   173 non-null object\n",
            "Total                   172 non-null float64\n",
            "Men                     172 non-null float64\n",
            "Women                   172 non-null float64\n",
            "Major_category          173 non-null object\n",
            "ShareWomen              172 non-null float64\n",
            "Sample_size             173 non-null int64\n",
            "Employed                173 non-null int64\n",
            "Full_time               173 non-null int64\n",
            "Part_time               173 non-null int64\n",
            "Full_time_year_round    173 non-null int64\n",
            "Unemployed              173 non-null int64\n",
            "Unemployment_rate       173 non-null float64\n",
            "Median                  173 non-null int64\n",
            "P25th                   173 non-null int64\n",
            "P75th                   173 non-null int64\n",
            "College_jobs            173 non-null int64\n",
            "Non_college_jobs        173 non-null int64\n",
            "Low_wage_jobs           173 non-null int64\n",
            "dtypes: float64(5), int64(14), object(2)\n",
            "memory usage: 28.5+ KB\n"
          ],
          "name": "stdout"
        }
      ]
    },
    {
      "cell_type": "code",
      "metadata": {
        "id": "4G9EASEYc6Ux",
        "colab_type": "code",
        "outputId": "899b7e1d-78ad-479c-bc78-3a83d5d61c95",
        "colab": {
          "base_uri": "https://localhost:8080/",
          "height": 658
        }
      },
      "source": [
        "ds.corr()"
      ],
      "execution_count": 0,
      "outputs": [
        {
          "output_type": "execute_result",
          "data": {
            "text/html": [
              "<div>\n",
              "<style scoped>\n",
              "    .dataframe tbody tr th:only-of-type {\n",
              "        vertical-align: middle;\n",
              "    }\n",
              "\n",
              "    .dataframe tbody tr th {\n",
              "        vertical-align: top;\n",
              "    }\n",
              "\n",
              "    .dataframe thead th {\n",
              "        text-align: right;\n",
              "    }\n",
              "</style>\n",
              "<table border=\"1\" class=\"dataframe\">\n",
              "  <thead>\n",
              "    <tr style=\"text-align: right;\">\n",
              "      <th></th>\n",
              "      <th>Rank</th>\n",
              "      <th>Major_code</th>\n",
              "      <th>Total</th>\n",
              "      <th>Men</th>\n",
              "      <th>Women</th>\n",
              "      <th>ShareWomen</th>\n",
              "      <th>Sample_size</th>\n",
              "      <th>Employed</th>\n",
              "      <th>Full_time</th>\n",
              "      <th>Part_time</th>\n",
              "      <th>Full_time_year_round</th>\n",
              "      <th>Unemployed</th>\n",
              "      <th>Unemployment_rate</th>\n",
              "      <th>Median</th>\n",
              "      <th>P25th</th>\n",
              "      <th>P75th</th>\n",
              "      <th>College_jobs</th>\n",
              "      <th>Non_college_jobs</th>\n",
              "      <th>Low_wage_jobs</th>\n",
              "    </tr>\n",
              "  </thead>\n",
              "  <tbody>\n",
              "    <tr>\n",
              "      <th>Rank</th>\n",
              "      <td>1.000000</td>\n",
              "      <td>0.108429</td>\n",
              "      <td>0.071137</td>\n",
              "      <td>-0.094780</td>\n",
              "      <td>0.174913</td>\n",
              "      <td>0.643781</td>\n",
              "      <td>0.008492</td>\n",
              "      <td>0.070751</td>\n",
              "      <td>0.034725</td>\n",
              "      <td>0.193174</td>\n",
              "      <td>0.020418</td>\n",
              "      <td>0.090078</td>\n",
              "      <td>0.068900</td>\n",
              "      <td>-0.873308</td>\n",
              "      <td>-0.735688</td>\n",
              "      <td>-0.802686</td>\n",
              "      <td>0.052639</td>\n",
              "      <td>0.144689</td>\n",
              "      <td>0.202920</td>\n",
              "    </tr>\n",
              "    <tr>\n",
              "      <th>Major_code</th>\n",
              "      <td>0.108429</td>\n",
              "      <td>1.000000</td>\n",
              "      <td>0.196784</td>\n",
              "      <td>0.179299</td>\n",
              "      <td>0.181459</td>\n",
              "      <td>0.259211</td>\n",
              "      <td>0.206580</td>\n",
              "      <td>0.200925</td>\n",
              "      <td>0.199397</td>\n",
              "      <td>0.195184</td>\n",
              "      <td>0.205634</td>\n",
              "      <td>0.223418</td>\n",
              "      <td>0.126603</td>\n",
              "      <td>-0.176072</td>\n",
              "      <td>-0.166864</td>\n",
              "      <td>-0.094556</td>\n",
              "      <td>0.041198</td>\n",
              "      <td>0.232425</td>\n",
              "      <td>0.225294</td>\n",
              "    </tr>\n",
              "    <tr>\n",
              "      <th>Total</th>\n",
              "      <td>0.071137</td>\n",
              "      <td>0.196784</td>\n",
              "      <td>1.000000</td>\n",
              "      <td>0.878088</td>\n",
              "      <td>0.944764</td>\n",
              "      <td>0.142999</td>\n",
              "      <td>0.945575</td>\n",
              "      <td>0.996214</td>\n",
              "      <td>0.989339</td>\n",
              "      <td>0.950268</td>\n",
              "      <td>0.981112</td>\n",
              "      <td>0.974768</td>\n",
              "      <td>0.083192</td>\n",
              "      <td>-0.106738</td>\n",
              "      <td>-0.071926</td>\n",
              "      <td>-0.083198</td>\n",
              "      <td>0.800465</td>\n",
              "      <td>0.941247</td>\n",
              "      <td>0.935510</td>\n",
              "    </tr>\n",
              "    <tr>\n",
              "      <th>Men</th>\n",
              "      <td>-0.094780</td>\n",
              "      <td>0.179299</td>\n",
              "      <td>0.878088</td>\n",
              "      <td>1.000000</td>\n",
              "      <td>0.672759</td>\n",
              "      <td>-0.112014</td>\n",
              "      <td>0.875176</td>\n",
              "      <td>0.870605</td>\n",
              "      <td>0.893563</td>\n",
              "      <td>0.751592</td>\n",
              "      <td>0.892454</td>\n",
              "      <td>0.869411</td>\n",
              "      <td>0.101502</td>\n",
              "      <td>0.025991</td>\n",
              "      <td>0.038725</td>\n",
              "      <td>0.052393</td>\n",
              "      <td>0.563168</td>\n",
              "      <td>0.851500</td>\n",
              "      <td>0.791336</td>\n",
              "    </tr>\n",
              "    <tr>\n",
              "      <th>Women</th>\n",
              "      <td>0.174913</td>\n",
              "      <td>0.181459</td>\n",
              "      <td>0.944764</td>\n",
              "      <td>0.672759</td>\n",
              "      <td>1.000000</td>\n",
              "      <td>0.297832</td>\n",
              "      <td>0.862606</td>\n",
              "      <td>0.944037</td>\n",
              "      <td>0.917681</td>\n",
              "      <td>0.954513</td>\n",
              "      <td>0.905720</td>\n",
              "      <td>0.911694</td>\n",
              "      <td>0.059108</td>\n",
              "      <td>-0.182842</td>\n",
              "      <td>-0.137738</td>\n",
              "      <td>-0.164528</td>\n",
              "      <td>0.851946</td>\n",
              "      <td>0.872132</td>\n",
              "      <td>0.904470</td>\n",
              "    </tr>\n",
              "    <tr>\n",
              "      <th>ShareWomen</th>\n",
              "      <td>0.643781</td>\n",
              "      <td>0.259211</td>\n",
              "      <td>0.142999</td>\n",
              "      <td>-0.112014</td>\n",
              "      <td>0.297832</td>\n",
              "      <td>1.000000</td>\n",
              "      <td>0.097496</td>\n",
              "      <td>0.147547</td>\n",
              "      <td>0.120200</td>\n",
              "      <td>0.212290</td>\n",
              "      <td>0.112523</td>\n",
              "      <td>0.121243</td>\n",
              "      <td>0.073205</td>\n",
              "      <td>-0.618690</td>\n",
              "      <td>-0.500199</td>\n",
              "      <td>-0.586932</td>\n",
              "      <td>0.195550</td>\n",
              "      <td>0.137007</td>\n",
              "      <td>0.187850</td>\n",
              "    </tr>\n",
              "    <tr>\n",
              "      <th>Sample_size</th>\n",
              "      <td>0.008492</td>\n",
              "      <td>0.206580</td>\n",
              "      <td>0.945575</td>\n",
              "      <td>0.875176</td>\n",
              "      <td>0.862606</td>\n",
              "      <td>0.097496</td>\n",
              "      <td>1.000000</td>\n",
              "      <td>0.964462</td>\n",
              "      <td>0.978396</td>\n",
              "      <td>0.824824</td>\n",
              "      <td>0.985235</td>\n",
              "      <td>0.918059</td>\n",
              "      <td>0.059872</td>\n",
              "      <td>-0.067578</td>\n",
              "      <td>-0.025229</td>\n",
              "      <td>-0.055737</td>\n",
              "      <td>0.701704</td>\n",
              "      <td>0.915464</td>\n",
              "      <td>0.860319</td>\n",
              "    </tr>\n",
              "    <tr>\n",
              "      <th>Employed</th>\n",
              "      <td>0.070751</td>\n",
              "      <td>0.200925</td>\n",
              "      <td>0.996214</td>\n",
              "      <td>0.870605</td>\n",
              "      <td>0.944037</td>\n",
              "      <td>0.147547</td>\n",
              "      <td>0.964462</td>\n",
              "      <td>1.000000</td>\n",
              "      <td>0.995838</td>\n",
              "      <td>0.934528</td>\n",
              "      <td>0.991047</td>\n",
              "      <td>0.968900</td>\n",
              "      <td>0.068056</td>\n",
              "      <td>-0.107547</td>\n",
              "      <td>-0.067514</td>\n",
              "      <td>-0.087560</td>\n",
              "      <td>0.797534</td>\n",
              "      <td>0.941326</td>\n",
              "      <td>0.927224</td>\n",
              "    </tr>\n",
              "    <tr>\n",
              "      <th>Full_time</th>\n",
              "      <td>0.034725</td>\n",
              "      <td>0.199397</td>\n",
              "      <td>0.989339</td>\n",
              "      <td>0.893563</td>\n",
              "      <td>0.917681</td>\n",
              "      <td>0.120200</td>\n",
              "      <td>0.978396</td>\n",
              "      <td>0.995838</td>\n",
              "      <td>1.000000</td>\n",
              "      <td>0.900877</td>\n",
              "      <td>0.998203</td>\n",
              "      <td>0.960102</td>\n",
              "      <td>0.063349</td>\n",
              "      <td>-0.082258</td>\n",
              "      <td>-0.042957</td>\n",
              "      <td>-0.065073</td>\n",
              "      <td>0.772515</td>\n",
              "      <td>0.933124</td>\n",
              "      <td>0.904852</td>\n",
              "    </tr>\n",
              "    <tr>\n",
              "      <th>Part_time</th>\n",
              "      <td>0.193174</td>\n",
              "      <td>0.195184</td>\n",
              "      <td>0.950268</td>\n",
              "      <td>0.751592</td>\n",
              "      <td>0.954513</td>\n",
              "      <td>0.212290</td>\n",
              "      <td>0.824824</td>\n",
              "      <td>0.934528</td>\n",
              "      <td>0.900877</td>\n",
              "      <td>1.000000</td>\n",
              "      <td>0.880855</td>\n",
              "      <td>0.945094</td>\n",
              "      <td>0.108944</td>\n",
              "      <td>-0.190124</td>\n",
              "      <td>-0.153509</td>\n",
              "      <td>-0.158220</td>\n",
              "      <td>0.804987</td>\n",
              "      <td>0.909634</td>\n",
              "      <td>0.951593</td>\n",
              "    </tr>\n",
              "    <tr>\n",
              "      <th>Full_time_year_round</th>\n",
              "      <td>0.020418</td>\n",
              "      <td>0.205634</td>\n",
              "      <td>0.981112</td>\n",
              "      <td>0.892454</td>\n",
              "      <td>0.905720</td>\n",
              "      <td>0.112523</td>\n",
              "      <td>0.985235</td>\n",
              "      <td>0.991047</td>\n",
              "      <td>0.998203</td>\n",
              "      <td>0.880855</td>\n",
              "      <td>1.000000</td>\n",
              "      <td>0.950711</td>\n",
              "      <td>0.057171</td>\n",
              "      <td>-0.072982</td>\n",
              "      <td>-0.033034</td>\n",
              "      <td>-0.056932</td>\n",
              "      <td>0.755254</td>\n",
              "      <td>0.928874</td>\n",
              "      <td>0.892847</td>\n",
              "    </tr>\n",
              "    <tr>\n",
              "      <th>Unemployed</th>\n",
              "      <td>0.090078</td>\n",
              "      <td>0.223418</td>\n",
              "      <td>0.974768</td>\n",
              "      <td>0.869411</td>\n",
              "      <td>0.911694</td>\n",
              "      <td>0.121243</td>\n",
              "      <td>0.918059</td>\n",
              "      <td>0.968900</td>\n",
              "      <td>0.960102</td>\n",
              "      <td>0.945094</td>\n",
              "      <td>0.950711</td>\n",
              "      <td>1.000000</td>\n",
              "      <td>0.165282</td>\n",
              "      <td>-0.126386</td>\n",
              "      <td>-0.092185</td>\n",
              "      <td>-0.097128</td>\n",
              "      <td>0.713804</td>\n",
              "      <td>0.956532</td>\n",
              "      <td>0.955388</td>\n",
              "    </tr>\n",
              "    <tr>\n",
              "      <th>Unemployment_rate</th>\n",
              "      <td>0.068900</td>\n",
              "      <td>0.126603</td>\n",
              "      <td>0.083192</td>\n",
              "      <td>0.101502</td>\n",
              "      <td>0.059108</td>\n",
              "      <td>0.073205</td>\n",
              "      <td>0.059872</td>\n",
              "      <td>0.068056</td>\n",
              "      <td>0.063349</td>\n",
              "      <td>0.108944</td>\n",
              "      <td>0.057171</td>\n",
              "      <td>0.165282</td>\n",
              "      <td>1.000000</td>\n",
              "      <td>-0.108833</td>\n",
              "      <td>-0.096156</td>\n",
              "      <td>-0.032768</td>\n",
              "      <td>-0.014552</td>\n",
              "      <td>0.116365</td>\n",
              "      <td>0.128444</td>\n",
              "    </tr>\n",
              "    <tr>\n",
              "      <th>Median</th>\n",
              "      <td>-0.873308</td>\n",
              "      <td>-0.176072</td>\n",
              "      <td>-0.106738</td>\n",
              "      <td>0.025991</td>\n",
              "      <td>-0.182842</td>\n",
              "      <td>-0.618690</td>\n",
              "      <td>-0.067578</td>\n",
              "      <td>-0.107547</td>\n",
              "      <td>-0.082258</td>\n",
              "      <td>-0.190124</td>\n",
              "      <td>-0.072982</td>\n",
              "      <td>-0.126386</td>\n",
              "      <td>-0.108833</td>\n",
              "      <td>1.000000</td>\n",
              "      <td>0.891683</td>\n",
              "      <td>0.901923</td>\n",
              "      <td>-0.050276</td>\n",
              "      <td>-0.174363</td>\n",
              "      <td>-0.209431</td>\n",
              "    </tr>\n",
              "    <tr>\n",
              "      <th>P25th</th>\n",
              "      <td>-0.735688</td>\n",
              "      <td>-0.166864</td>\n",
              "      <td>-0.071926</td>\n",
              "      <td>0.038725</td>\n",
              "      <td>-0.137738</td>\n",
              "      <td>-0.500199</td>\n",
              "      <td>-0.025229</td>\n",
              "      <td>-0.067514</td>\n",
              "      <td>-0.042957</td>\n",
              "      <td>-0.153509</td>\n",
              "      <td>-0.033034</td>\n",
              "      <td>-0.092185</td>\n",
              "      <td>-0.096156</td>\n",
              "      <td>0.891683</td>\n",
              "      <td>1.000000</td>\n",
              "      <td>0.734491</td>\n",
              "      <td>-0.011554</td>\n",
              "      <td>-0.138877</td>\n",
              "      <td>-0.173835</td>\n",
              "    </tr>\n",
              "    <tr>\n",
              "      <th>P75th</th>\n",
              "      <td>-0.802686</td>\n",
              "      <td>-0.094556</td>\n",
              "      <td>-0.083198</td>\n",
              "      <td>0.052393</td>\n",
              "      <td>-0.164528</td>\n",
              "      <td>-0.586932</td>\n",
              "      <td>-0.055737</td>\n",
              "      <td>-0.087560</td>\n",
              "      <td>-0.065073</td>\n",
              "      <td>-0.158220</td>\n",
              "      <td>-0.056932</td>\n",
              "      <td>-0.097128</td>\n",
              "      <td>-0.032768</td>\n",
              "      <td>0.901923</td>\n",
              "      <td>0.734491</td>\n",
              "      <td>1.000000</td>\n",
              "      <td>-0.056481</td>\n",
              "      <td>-0.139345</td>\n",
              "      <td>-0.173474</td>\n",
              "    </tr>\n",
              "    <tr>\n",
              "      <th>College_jobs</th>\n",
              "      <td>0.052639</td>\n",
              "      <td>0.041198</td>\n",
              "      <td>0.800465</td>\n",
              "      <td>0.563168</td>\n",
              "      <td>0.851946</td>\n",
              "      <td>0.195550</td>\n",
              "      <td>0.701704</td>\n",
              "      <td>0.797534</td>\n",
              "      <td>0.772515</td>\n",
              "      <td>0.804987</td>\n",
              "      <td>0.755254</td>\n",
              "      <td>0.713804</td>\n",
              "      <td>-0.014552</td>\n",
              "      <td>-0.050276</td>\n",
              "      <td>-0.011554</td>\n",
              "      <td>-0.056481</td>\n",
              "      <td>1.000000</td>\n",
              "      <td>0.613474</td>\n",
              "      <td>0.650238</td>\n",
              "    </tr>\n",
              "    <tr>\n",
              "      <th>Non_college_jobs</th>\n",
              "      <td>0.144689</td>\n",
              "      <td>0.232425</td>\n",
              "      <td>0.941247</td>\n",
              "      <td>0.851500</td>\n",
              "      <td>0.872132</td>\n",
              "      <td>0.137007</td>\n",
              "      <td>0.915464</td>\n",
              "      <td>0.941326</td>\n",
              "      <td>0.933124</td>\n",
              "      <td>0.909634</td>\n",
              "      <td>0.928874</td>\n",
              "      <td>0.956532</td>\n",
              "      <td>0.116365</td>\n",
              "      <td>-0.174363</td>\n",
              "      <td>-0.138877</td>\n",
              "      <td>-0.139345</td>\n",
              "      <td>0.613474</td>\n",
              "      <td>1.000000</td>\n",
              "      <td>0.975733</td>\n",
              "    </tr>\n",
              "    <tr>\n",
              "      <th>Low_wage_jobs</th>\n",
              "      <td>0.202920</td>\n",
              "      <td>0.225294</td>\n",
              "      <td>0.935510</td>\n",
              "      <td>0.791336</td>\n",
              "      <td>0.904470</td>\n",
              "      <td>0.187850</td>\n",
              "      <td>0.860319</td>\n",
              "      <td>0.927224</td>\n",
              "      <td>0.904852</td>\n",
              "      <td>0.951593</td>\n",
              "      <td>0.892847</td>\n",
              "      <td>0.955388</td>\n",
              "      <td>0.128444</td>\n",
              "      <td>-0.209431</td>\n",
              "      <td>-0.173835</td>\n",
              "      <td>-0.173474</td>\n",
              "      <td>0.650238</td>\n",
              "      <td>0.975733</td>\n",
              "      <td>1.000000</td>\n",
              "    </tr>\n",
              "  </tbody>\n",
              "</table>\n",
              "</div>"
            ],
            "text/plain": [
              "                          Rank  Major_code  ...  Non_college_jobs  Low_wage_jobs\n",
              "Rank                  1.000000    0.108429  ...          0.144689       0.202920\n",
              "Major_code            0.108429    1.000000  ...          0.232425       0.225294\n",
              "Total                 0.071137    0.196784  ...          0.941247       0.935510\n",
              "Men                  -0.094780    0.179299  ...          0.851500       0.791336\n",
              "Women                 0.174913    0.181459  ...          0.872132       0.904470\n",
              "ShareWomen            0.643781    0.259211  ...          0.137007       0.187850\n",
              "Sample_size           0.008492    0.206580  ...          0.915464       0.860319\n",
              "Employed              0.070751    0.200925  ...          0.941326       0.927224\n",
              "Full_time             0.034725    0.199397  ...          0.933124       0.904852\n",
              "Part_time             0.193174    0.195184  ...          0.909634       0.951593\n",
              "Full_time_year_round  0.020418    0.205634  ...          0.928874       0.892847\n",
              "Unemployed            0.090078    0.223418  ...          0.956532       0.955388\n",
              "Unemployment_rate     0.068900    0.126603  ...          0.116365       0.128444\n",
              "Median               -0.873308   -0.176072  ...         -0.174363      -0.209431\n",
              "P25th                -0.735688   -0.166864  ...         -0.138877      -0.173835\n",
              "P75th                -0.802686   -0.094556  ...         -0.139345      -0.173474\n",
              "College_jobs          0.052639    0.041198  ...          0.613474       0.650238\n",
              "Non_college_jobs      0.144689    0.232425  ...          1.000000       0.975733\n",
              "Low_wage_jobs         0.202920    0.225294  ...          0.975733       1.000000\n",
              "\n",
              "[19 rows x 19 columns]"
            ]
          },
          "metadata": {
            "tags": []
          },
          "execution_count": 447
        }
      ]
    },
    {
      "cell_type": "code",
      "metadata": {
        "id": "XDnysiorcs_r",
        "colab_type": "code",
        "outputId": "97427cc0-b92b-4732-84c7-62f7ac6fafde",
        "colab": {
          "base_uri": "https://localhost:8080/",
          "height": 391
        }
      },
      "source": [
        "ds.isna().sum()"
      ],
      "execution_count": 0,
      "outputs": [
        {
          "output_type": "execute_result",
          "data": {
            "text/plain": [
              "Rank                    0\n",
              "Major_code              0\n",
              "Major                   0\n",
              "Total                   1\n",
              "Men                     1\n",
              "Women                   1\n",
              "Major_category          0\n",
              "ShareWomen              1\n",
              "Sample_size             0\n",
              "Employed                0\n",
              "Full_time               0\n",
              "Part_time               0\n",
              "Full_time_year_round    0\n",
              "Unemployed              0\n",
              "Unemployment_rate       0\n",
              "Median                  0\n",
              "P25th                   0\n",
              "P75th                   0\n",
              "College_jobs            0\n",
              "Non_college_jobs        0\n",
              "Low_wage_jobs           0\n",
              "dtype: int64"
            ]
          },
          "metadata": {
            "tags": []
          },
          "execution_count": 448
        }
      ]
    },
    {
      "cell_type": "markdown",
      "metadata": {
        "id": "3rEh15DS7NBI",
        "colab_type": "text"
      },
      "source": [
        "## **DATA WRANGLING**"
      ]
    },
    {
      "cell_type": "code",
      "metadata": {
        "id": "gjoxu1eWc2D4",
        "colab_type": "code",
        "colab": {}
      },
      "source": [
        "ds = ds.dropna()"
      ],
      "execution_count": 0,
      "outputs": []
    },
    {
      "cell_type": "code",
      "metadata": {
        "id": "0fC5pfZj1Jmm",
        "colab_type": "code",
        "colab": {}
      },
      "source": [
        "ds = ds.drop(columns = 'Major')"
      ],
      "execution_count": 0,
      "outputs": []
    },
    {
      "cell_type": "code",
      "metadata": {
        "id": "LhcK4t8_f7oZ",
        "colab_type": "code",
        "outputId": "80905feb-4400-424a-aa2c-a6ae6984e720",
        "colab": {
          "base_uri": "https://localhost:8080/",
          "height": 374
        }
      },
      "source": [
        "ds.isna().sum()"
      ],
      "execution_count": 0,
      "outputs": [
        {
          "output_type": "execute_result",
          "data": {
            "text/plain": [
              "Rank                    0\n",
              "Major_code              0\n",
              "Total                   0\n",
              "Men                     0\n",
              "Women                   0\n",
              "Major_category          0\n",
              "ShareWomen              0\n",
              "Sample_size             0\n",
              "Employed                0\n",
              "Full_time               0\n",
              "Part_time               0\n",
              "Full_time_year_round    0\n",
              "Unemployed              0\n",
              "Unemployment_rate       0\n",
              "Median                  0\n",
              "P25th                   0\n",
              "P75th                   0\n",
              "College_jobs            0\n",
              "Non_college_jobs        0\n",
              "Low_wage_jobs           0\n",
              "dtype: int64"
            ]
          },
          "metadata": {
            "tags": []
          },
          "execution_count": 451
        }
      ]
    },
    {
      "cell_type": "code",
      "metadata": {
        "id": "7MW6XeivgSTo",
        "colab_type": "code",
        "outputId": "0fd3c0d0-66ea-4e9a-e34a-2b26d5ceb699",
        "colab": {
          "base_uri": "https://localhost:8080/",
          "height": 374
        }
      },
      "source": [
        "ds.nunique()"
      ],
      "execution_count": 0,
      "outputs": [
        {
          "output_type": "execute_result",
          "data": {
            "text/plain": [
              "Rank                    172\n",
              "Major_code              172\n",
              "Total                   172\n",
              "Men                     172\n",
              "Women                   171\n",
              "Major_category           16\n",
              "ShareWomen              172\n",
              "Sample_size             147\n",
              "Employed                170\n",
              "Full_time               172\n",
              "Part_time               169\n",
              "Full_time_year_round    172\n",
              "Unemployed              160\n",
              "Unemployment_rate       168\n",
              "Median                   59\n",
              "P25th                    48\n",
              "P75th                    54\n",
              "College_jobs            172\n",
              "Non_college_jobs        172\n",
              "Low_wage_jobs           165\n",
              "dtype: int64"
            ]
          },
          "metadata": {
            "tags": []
          },
          "execution_count": 452
        }
      ]
    },
    {
      "cell_type": "code",
      "metadata": {
        "id": "XBn6xO0jgtGL",
        "colab_type": "code",
        "outputId": "30667d02-be40-4983-a7a9-e3762ae0a355",
        "colab": {
          "base_uri": "https://localhost:8080/",
          "height": 136
        }
      },
      "source": [
        "ds['Major_category'].unique()"
      ],
      "execution_count": 0,
      "outputs": [
        {
          "output_type": "execute_result",
          "data": {
            "text/plain": [
              "array(['Engineering', 'Business', 'Physical Sciences',\n",
              "       'Law & Public Policy', 'Computers & Mathematics',\n",
              "       'Industrial Arts & Consumer Services', 'Arts', 'Health',\n",
              "       'Social Science', 'Biology & Life Science', 'Education',\n",
              "       'Agriculture & Natural Resources', 'Humanities & Liberal Arts',\n",
              "       'Psychology & Social Work', 'Communications & Journalism',\n",
              "       'Interdisciplinary'], dtype=object)"
            ]
          },
          "metadata": {
            "tags": []
          },
          "execution_count": 453
        }
      ]
    },
    {
      "cell_type": "code",
      "metadata": {
        "id": "a6QXlaFD1nJW",
        "colab_type": "code",
        "colab": {}
      },
      "source": [
        "Major = {'Engineering':0,'Business':1,'Physical Sciences':2,'Law & Public Policy':3,'Computers & Mathematics':4,\n",
        "        'Industrial Arts & Consumer Services':5,'Arts':6,'Health':7,'Social Science':8,'Biology & Life Science':9,\n",
        "        'Education':10,'Agriculture & Natural Resources':11,'Humanities & Liberal Arts':12,'Psychology & Social Work':13,'Communications & Journalism':14,\n",
        "        'Interdisciplinary':15}\n",
        "ds['Major_category'] = [Major[item] for item in ds['Major_category']]"
      ],
      "execution_count": 0,
      "outputs": []
    },
    {
      "cell_type": "code",
      "metadata": {
        "id": "616O7QOI4y96",
        "colab_type": "code",
        "outputId": "42891958-9aed-452d-87f1-6a5e983c4d4d",
        "colab": {
          "base_uri": "https://localhost:8080/",
          "height": 442
        }
      },
      "source": [
        "ds.info()"
      ],
      "execution_count": 0,
      "outputs": [
        {
          "output_type": "stream",
          "text": [
            "<class 'pandas.core.frame.DataFrame'>\n",
            "Int64Index: 172 entries, 0 to 172\n",
            "Data columns (total 20 columns):\n",
            "Rank                    172 non-null int64\n",
            "Major_code              172 non-null int64\n",
            "Total                   172 non-null float64\n",
            "Men                     172 non-null float64\n",
            "Women                   172 non-null float64\n",
            "Major_category          172 non-null int64\n",
            "ShareWomen              172 non-null float64\n",
            "Sample_size             172 non-null int64\n",
            "Employed                172 non-null int64\n",
            "Full_time               172 non-null int64\n",
            "Part_time               172 non-null int64\n",
            "Full_time_year_round    172 non-null int64\n",
            "Unemployed              172 non-null int64\n",
            "Unemployment_rate       172 non-null float64\n",
            "Median                  172 non-null int64\n",
            "P25th                   172 non-null int64\n",
            "P75th                   172 non-null int64\n",
            "College_jobs            172 non-null int64\n",
            "Non_college_jobs        172 non-null int64\n",
            "Low_wage_jobs           172 non-null int64\n",
            "dtypes: float64(5), int64(15)\n",
            "memory usage: 28.2 KB\n"
          ],
          "name": "stdout"
        }
      ]
    },
    {
      "cell_type": "markdown",
      "metadata": {
        "id": "5-uGZaWMhrds",
        "colab_type": "text"
      },
      "source": [
        "## **VISUALIZATION**"
      ]
    },
    {
      "cell_type": "code",
      "metadata": {
        "id": "qZZ7P0k9hWLG",
        "colab_type": "code",
        "outputId": "b33ae5ac-98c9-46e8-ad23-7f20f1f3e02f",
        "colab": {
          "base_uri": "https://localhost:8080/",
          "height": 600
        }
      },
      "source": [
        "plt.figure(figsize=(14,8))\n",
        "sns.heatmap(ds.corr())"
      ],
      "execution_count": 0,
      "outputs": [
        {
          "output_type": "execute_result",
          "data": {
            "text/plain": [
              "<matplotlib.axes._subplots.AxesSubplot at 0x7f4b45e25828>"
            ]
          },
          "metadata": {
            "tags": []
          },
          "execution_count": 456
        },
        {
          "output_type": "display_data",
          "data": {
            "image/png": "[encoded data removed]",
            "text/plain": [
              "<Figure size 1008x576 with 2 Axes>"
            ]
          },
          "metadata": {
            "tags": []
          }
        }
      ]
    },
    {
      "cell_type": "code",
      "metadata": {
        "id": "TeRyVVQKmpqO",
        "colab_type": "code",
        "outputId": "1563315f-561c-40eb-a848-06a9a0a4956b",
        "colab": {
          "base_uri": "https://localhost:8080/",
          "height": 375
        }
      },
      "source": [
        "from pylab import rcParams\n",
        "\n",
        "rcParams['figure.figsize'] = 40,5\n",
        "\n",
        "sns.countplot(x='Major_category', data=ds)"
      ],
      "execution_count": 0,
      "outputs": [
        {
          "output_type": "execute_result",
          "data": {
            "text/plain": [
              "<matplotlib.axes._subplots.AxesSubplot at 0x7f4b45db7be0>"
            ]
          },
          "metadata": {
            "tags": []
          },
          "execution_count": 457
        },
        {
          "output_type": "display_data",
          "data": {
            "image/png": "[encoded data removed]",
            "text/plain": [
              "<Figure size 2880x360 with 1 Axes>"
            ]
          },
          "metadata": {
            "tags": []
          }
        }
      ]
    },
    {
      "cell_type": "code",
      "metadata": {
        "id": "AuAqmzXLr58I",
        "colab_type": "code",
        "outputId": "e4570884-582a-4d27-e21e-dd5ec3618a7f",
        "colab": {
          "base_uri": "https://localhost:8080/",
          "height": 354
        }
      },
      "source": [
        "from pylab import rcParams\n",
        "\n",
        "rcParams['figure.figsize'] = 10,5\n",
        "\n",
        "sns.distplot(ds['Men'])"
      ],
      "execution_count": 0,
      "outputs": [
        {
          "output_type": "execute_result",
          "data": {
            "text/plain": [
              "<matplotlib.axes._subplots.AxesSubplot at 0x7f4b45c32668>"
            ]
          },
          "metadata": {
            "tags": []
          },
          "execution_count": 458
        },
        {
          "output_type": "display_data",
          "data": {
            "image/png": "[encoded data removed]",
            "text/plain": [
              "<Figure size 720x360 with 1 Axes>"
            ]
          },
          "metadata": {
            "tags": []
          }
        }
      ]
    },
    {
      "cell_type": "code",
      "metadata": {
        "id": "yMp9zOurtXN3",
        "colab_type": "code",
        "outputId": "a805008e-107c-4201-a13b-48b6a12ebaa6",
        "colab": {
          "base_uri": "https://localhost:8080/",
          "height": 459
        }
      },
      "source": [
        "plt.boxplot(ds['Men'])"
      ],
      "execution_count": 0,
      "outputs": [
        {
          "output_type": "execute_result",
          "data": {
            "text/plain": [
              "{'boxes': [<matplotlib.lines.Line2D at 0x7f4b45b2ff98>],\n",
              " 'caps': [<matplotlib.lines.Line2D at 0x7f4b45b387f0>,\n",
              "  <matplotlib.lines.Line2D at 0x7f4b45b38b38>],\n",
              " 'fliers': [<matplotlib.lines.Line2D at 0x7f4b45b40208>],\n",
              " 'means': [],\n",
              " 'medians': [<matplotlib.lines.Line2D at 0x7f4b45b38e80>],\n",
              " 'whiskers': [<matplotlib.lines.Line2D at 0x7f4b45b38128>,\n",
              "  <matplotlib.lines.Line2D at 0x7f4b45b384a8>]}"
            ]
          },
          "metadata": {
            "tags": []
          },
          "execution_count": 459
        },
        {
          "output_type": "display_data",
          "data": {
            "image/png": "[encoded data removed]",
            "text/plain": [
              "<Figure size 720x360 with 1 Axes>"
            ]
          },
          "metadata": {
            "tags": []
          }
        }
      ]
    },
    {
      "cell_type": "code",
      "metadata": {
        "id": "iBmg1gRJt8F5",
        "colab_type": "code",
        "outputId": "878d1066-d73c-435e-b7d5-f3cc377c811e",
        "colab": {
          "base_uri": "https://localhost:8080/",
          "height": 340
        }
      },
      "source": [
        "plt.scatter(ds['Men'],ds['Women'])"
      ],
      "execution_count": 0,
      "outputs": [
        {
          "output_type": "execute_result",
          "data": {
            "text/plain": [
              "<matplotlib.collections.PathCollection at 0x7f4b45b0aef0>"
            ]
          },
          "metadata": {
            "tags": []
          },
          "execution_count": 460
        },
        {
          "output_type": "display_data",
          "data": {
            "image/png": "[encoded data removed]",
            "text/plain": [
              "<Figure size 720x360 with 1 Axes>"
            ]
          },
          "metadata": {
            "tags": []
          }
        }
      ]
    },
    {
      "cell_type": "markdown",
      "metadata": {
        "id": "3kkd8RfIwPEt",
        "colab_type": "text"
      },
      "source": [
        "### **A Scatterplot of the Relationship between Men & Women in the dataset**"
      ]
    },
    {
      "cell_type": "markdown",
      "metadata": {
        "id": "RKvkJnDrurnc",
        "colab_type": "text"
      },
      "source": [
        "## **MODELLING**"
      ]
    },
    {
      "cell_type": "code",
      "metadata": {
        "id": "r0SjPOnQuy7m",
        "colab_type": "code",
        "colab": {}
      },
      "source": [
        "#We want to train our model to predict possible 'Major_Category(Career Path)' on all coulmns except Rank, P25th & P75th \n",
        "\n",
        "X = ds.drop(['Major_category','Rank','Median','P25th','P75th'], axis = 1)\n",
        "Y = ds['Major_category']"
      ],
      "execution_count": 0,
      "outputs": []
    },
    {
      "cell_type": "code",
      "metadata": {
        "id": "O0XBBnKqv_tB",
        "colab_type": "code",
        "colab": {}
      },
      "source": [
        "X_train,X_test,Y_train, Y_test = train_test_split(X,Y, train_size = 0.75, random_state = 65000, shuffle = True)"
      ],
      "execution_count": 0,
      "outputs": []
    },
    {
      "cell_type": "markdown",
      "metadata": {
        "id": "dNfWpfCi1uov",
        "colab_type": "text"
      },
      "source": [
        "**LOGISTIC REGRESSION**"
      ]
    },
    {
      "cell_type": "code",
      "metadata": {
        "id": "WcI0dGq1Eio1",
        "colab_type": "code",
        "outputId": "7cdc3edf-e736-4c22-bdfc-d9ae065b7a59",
        "colab": {
          "base_uri": "https://localhost:8080/",
          "height": 156
        }
      },
      "source": [
        "logmodel = LogisticRegression()\n",
        "\n",
        "logmodel.fit(X_train,Y_train)\n",
        "prediction = logmodel.predict(X_test)\n",
        "print('Fitting & Predicting Complete!')"
      ],
      "execution_count": 0,
      "outputs": [
        {
          "output_type": "stream",
          "text": [
            "Fitting & Predicting Complete!\n"
          ],
          "name": "stdout"
        },
        {
          "output_type": "stream",
          "text": [
            "/usr/local/lib/python3.6/dist-packages/sklearn/linear_model/logistic.py:432: FutureWarning: Default solver will be changed to 'lbfgs' in 0.22. Specify a solver to silence this warning.\n",
            "  FutureWarning)\n",
            "/usr/local/lib/python3.6/dist-packages/sklearn/linear_model/logistic.py:469: FutureWarning: Default multi_class will be changed to 'auto' in 0.22. Specify the multi_class option to silence this warning.\n",
            "  \"this warning.\", FutureWarning)\n",
            "/usr/local/lib/python3.6/dist-packages/sklearn/svm/base.py:929: ConvergenceWarning: Liblinear failed to converge, increase the number of iterations.\n",
            "  \"the number of iterations.\", ConvergenceWarning)\n"
          ],
          "name": "stderr"
        }
      ]
    },
    {
      "cell_type": "code",
      "metadata": {
        "id": "hPZxVDKK68zY",
        "colab_type": "code",
        "outputId": "742aff3a-3f8e-45e7-89cf-ea69942e2689",
        "colab": {
          "base_uri": "https://localhost:8080/",
          "height": 340
        }
      },
      "source": [
        "print('Our confusion matrix for Logistic Regression is:\\n',confusion_matrix(Y_test,prediction))\n",
        "print('Our accuracy for Logistic Regression is:\\n',accuracy_score(Y_test,prediction)*100,'%')"
      ],
      "execution_count": 0,
      "outputs": [
        {
          "output_type": "stream",
          "text": [
            "Our confusion matrix for Logistic Regression is:\n",
            " [[3 0 0 1 5 0 0 0 0 0 0 0 0 0 0 0]\n",
            " [0 1 0 0 0 0 0 0 0 0 0 0 0 0 0 0]\n",
            " [1 0 0 0 0 0 0 0 0 0 0 0 0 0 0 1]\n",
            " [0 0 0 0 0 0 0 0 0 0 0 0 0 0 0 0]\n",
            " [1 0 0 0 0 0 0 0 0 0 0 0 0 0 0 1]\n",
            " [1 0 0 0 0 0 0 0 0 0 0 0 0 0 0 0]\n",
            " [0 0 0 0 0 0 1 0 0 0 0 0 0 0 0 0]\n",
            " [0 0 1 0 0 1 0 1 0 1 0 0 0 1 0 1]\n",
            " [0 0 0 1 0 0 0 0 0 0 0 0 0 0 0 0]\n",
            " [1 0 0 0 0 1 0 0 0 1 0 0 0 0 0 0]\n",
            " [0 0 0 0 1 0 0 0 0 0 3 0 0 1 0 0]\n",
            " [0 0 0 0 0 1 0 0 0 0 0 0 1 0 0 0]\n",
            " [0 0 0 0 1 1 2 0 0 0 0 0 2 0 0 0]\n",
            " [0 0 0 0 0 0 0 0 0 0 0 0 0 1 0 0]\n",
            " [0 0 0 0 1 0 0 0 0 0 0 0 2 0 0 0]\n",
            " [0 0 0 0 0 0 0 0 0 0 0 0 0 0 0 0]]\n",
            "Our accuracy for Logistic Regression is:\n",
            " 30.23255813953488 %\n"
          ],
          "name": "stdout"
        }
      ]
    },
    {
      "cell_type": "markdown",
      "metadata": {
        "id": "krcwDdoI803C",
        "colab_type": "text"
      },
      "source": [
        "**DECISION TREE**"
      ]
    },
    {
      "cell_type": "code",
      "metadata": {
        "id": "r2zWTA1K8zsy",
        "colab_type": "code",
        "outputId": "4f5bc4c0-41e6-4b15-dcfa-a06d136619bc",
        "colab": {
          "base_uri": "https://localhost:8080/",
          "height": 34
        }
      },
      "source": [
        "from sklearn.tree import DecisionTreeClassifier\n",
        "\n",
        "dclass = DecisionTreeClassifier()\n",
        "dclass.fit(X_train,Y_train)\n",
        "\n",
        "prediction = dclass.predict(X_test)\n",
        "print('Fitting & Prediction complete!')"
      ],
      "execution_count": 0,
      "outputs": [
        {
          "output_type": "stream",
          "text": [
            "Fitting & Prediction complete!\n"
          ],
          "name": "stdout"
        }
      ]
    },
    {
      "cell_type": "code",
      "metadata": {
        "id": "M6E6eYAn-STK",
        "colab_type": "code",
        "outputId": "217e7364-254c-49da-f8a4-24f90d437dc4",
        "colab": {
          "base_uri": "https://localhost:8080/",
          "height": 306
        }
      },
      "source": [
        "print('Our confusion matrix for the Decision Tree Algorithm is:\\n',confusion_matrix(Y_test,prediction))\n",
        "print('Our accuracy for the Decision Tree Algorithm is:\\n',accuracy_score(Y_test,prediction)*100,'%')"
      ],
      "execution_count": 0,
      "outputs": [
        {
          "output_type": "stream",
          "text": [
            "Our confusion matrix for the Decision Tree Algorithm is:\n",
            " [[8 0 0 0 0 0 0 0 1 0 0 0 0 0]\n",
            " [0 0 0 0 0 0 1 0 0 0 0 0 0 0]\n",
            " [0 0 2 0 0 0 0 0 0 0 0 0 0 0]\n",
            " [0 0 0 2 0 0 0 0 0 0 0 0 0 0]\n",
            " [0 0 0 0 1 0 0 0 0 0 0 0 0 0]\n",
            " [0 0 0 0 0 1 0 0 0 0 0 0 0 0]\n",
            " [0 0 0 0 0 1 5 0 0 0 0 0 0 0]\n",
            " [0 0 0 0 0 0 0 1 0 0 0 0 0 0]\n",
            " [0 0 0 0 0 0 0 1 2 0 0 0 0 0]\n",
            " [1 0 0 0 0 0 0 0 0 4 0 0 0 0]\n",
            " [0 0 0 1 0 0 0 0 1 0 0 0 0 0]\n",
            " [0 1 0 0 0 0 0 1 1 0 0 3 0 0]\n",
            " [0 0 0 0 0 0 0 0 0 0 0 0 1 0]\n",
            " [0 0 0 0 0 0 0 0 0 0 0 0 0 3]]\n",
            "Our accuracy for the Decision Tree Algorithm is:\n",
            " 76.74418604651163 %\n"
          ],
          "name": "stdout"
        }
      ]
    },
    {
      "cell_type": "markdown",
      "metadata": {
        "id": "bc2-y0HmFZ8g",
        "colab_type": "text"
      },
      "source": [
        "**RANDOM FOREST CLASSIFIER**"
      ]
    },
    {
      "cell_type": "code",
      "metadata": {
        "colab_type": "code",
        "outputId": "2b531abc-35e3-4bdf-ccef-44b5e7db9443",
        "id": "KgVK6HM_3OEi",
        "colab": {
          "base_uri": "https://localhost:8080/",
          "height": 71
        }
      },
      "source": [
        "from sklearn.ensemble import RandomForestClassifier\n",
        "\n",
        "classifier = RandomForestClassifier(max_depth = 3, random_state = 0)\n",
        "\n",
        "classifier.fit(X_train,Y_train)\n",
        "\n",
        "prediction = classifier.predict(X_test)"
      ],
      "execution_count": 0,
      "outputs": [
        {
          "output_type": "stream",
          "text": [
            "/usr/local/lib/python3.6/dist-packages/sklearn/ensemble/forest.py:245: FutureWarning: The default value of n_estimators will change from 10 in version 0.20 to 100 in 0.22.\n",
            "  \"10 in version 0.20 to 100 in 0.22.\", FutureWarning)\n"
          ],
          "name": "stderr"
        }
      ]
    },
    {
      "cell_type": "code",
      "metadata": {
        "id": "Eu7N6VXaFu7Q",
        "colab_type": "code",
        "outputId": "070d02d9-d792-4799-bad5-33d7db6fae34",
        "colab": {
          "base_uri": "https://localhost:8080/",
          "height": 306
        }
      },
      "source": [
        "print('Our confusion matrix for Random Forest is:\\n',confusion_matrix(Y_test,prediction))\n",
        "print('Our accuracy for Random Forest is:\\n',accuracy_score(Y_test,prediction)*100,'%')"
      ],
      "execution_count": 0,
      "outputs": [
        {
          "output_type": "stream",
          "text": [
            "Our confusion matrix for Random Forest is:\n",
            " [[7 0 0 1 0 0 0 0 1 0 0 0 0 0]\n",
            " [0 1 0 0 0 0 0 0 0 0 0 0 0 0]\n",
            " [0 0 1 0 0 0 0 0 0 0 0 0 1 0]\n",
            " [2 0 0 0 0 0 0 0 0 0 0 0 0 0]\n",
            " [1 0 0 0 0 0 0 0 0 0 0 0 0 0]\n",
            " [0 0 0 0 0 1 0 0 0 0 0 0 0 0]\n",
            " [0 0 0 0 0 0 0 1 0 3 0 2 0 0]\n",
            " [0 1 0 0 0 0 0 0 0 0 0 0 0 0]\n",
            " [0 1 0 0 0 0 0 0 1 0 0 0 1 0]\n",
            " [0 1 1 0 0 0 0 0 0 3 0 0 0 0]\n",
            " [1 0 0 0 0 0 0 0 0 1 0 0 0 0]\n",
            " [0 2 0 1 0 1 0 1 0 0 0 1 0 0]\n",
            " [0 0 1 0 0 0 0 0 0 0 0 0 0 0]\n",
            " [0 1 0 1 0 1 0 0 0 0 0 0 0 0]]\n",
            "Our accuracy for Random Forest is:\n",
            " 34.883720930232556 %\n"
          ],
          "name": "stdout"
        }
      ]
    }
  ]
}